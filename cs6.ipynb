{
 "cells": [
  {
   "attachments": {},
   "cell_type": "markdown",
   "metadata": {},
   "source": [
    "## Case Study 6\n",
    "\n",
    "Identifying a new particle using a large dataset.\n",
    "\n",
    "Client wants a high level of accuracy.\n",
    "\n",
    "Binary - 1 for detection and 0 for nondetection\n",
    "\n",
    "Build a neural network and a classifier.\n",
    "\n",
    "\"Build a dense neural network to accurately detect the particle. The goal is to maximize your accuracy. Include a discussion of how you know your model has finished training as well as what design decisions you made while building the network.\""
   ]
  },
  {
   "cell_type": "code",
   "execution_count": 2,
   "metadata": {},
   "outputs": [],
   "source": [
    "import pandas as pd\n",
    "import numpy as np\n",
    "import plotly.express as px\n",
    "import plotly.graph_objects as go\n",
    "from sklearn.preprocessing import StandardScaler\n",
    "from sklearn.model_selection import train_test_split\n",
    "import tensorflow as tf\n",
    "from tensorflow import keras\n",
    "from tensorflow.keras import layers\n",
    "import keras_tuner as kt\n"
   ]
  },
  {
   "cell_type": "code",
   "execution_count": 4,
   "metadata": {},
   "outputs": [
    {
     "name": "stdout",
     "output_type": "stream",
     "text": [
      "REPLICAS:  1\n",
      "Num GPUs Available:  1\n"
     ]
    }
   ],
   "source": [
    "try:\n",
    "    tpu = tf.distribute.cluster_resolver.TPUClusterResolver()  # TPU detection. No parameters necessary if TPU_NAME environment variable is set. On Kaggle this is always the case.\n",
    "    print('Running on TPU ', tpu.master())\n",
    "except ValueError:\n",
    "    tpu = None\n",
    "\n",
    "if tpu:\n",
    "    tf.config.experimental_connect_to_cluster(tpu)\n",
    "    tf.tpu.experimental.initialize_tpu_system(tpu)\n",
    "    strategy = tf.distribute.experimental.TPUStrategy(tpu)\n",
    "else:\n",
    "    strategy = tf.distribute.get_strategy() # default distribution strategy in Tensorflow. Works on CPU and single GPU.\n",
    "\n",
    "print(\"REPLICAS: \", strategy.num_replicas_in_sync)\n",
    "print(\"Num GPUs Available: \", len(tf.config.list_physical_devices('GPU')))"
   ]
  },
  {
   "cell_type": "code",
   "execution_count": 3,
   "metadata": {},
   "outputs": [],
   "source": [
    "df = pd.read_csv('all_train.csv', dtype='float16')"
   ]
  },
  {
   "cell_type": "code",
   "execution_count": 6,
   "metadata": {},
   "outputs": [
    {
     "data": {
      "text/html": [
       "<div>\n",
       "<style scoped>\n",
       "    .dataframe tbody tr th:only-of-type {\n",
       "        vertical-align: middle;\n",
       "    }\n",
       "\n",
       "    .dataframe tbody tr th {\n",
       "        vertical-align: top;\n",
       "    }\n",
       "\n",
       "    .dataframe thead th {\n",
       "        text-align: right;\n",
       "    }\n",
       "</style>\n",
       "<table border=\"1\" class=\"dataframe\">\n",
       "  <thead>\n",
       "    <tr style=\"text-align: right;\">\n",
       "      <th></th>\n",
       "      <th># label</th>\n",
       "      <th>f0</th>\n",
       "      <th>f1</th>\n",
       "      <th>f2</th>\n",
       "      <th>f3</th>\n",
       "      <th>f4</th>\n",
       "      <th>f5</th>\n",
       "      <th>f6</th>\n",
       "      <th>f7</th>\n",
       "      <th>f8</th>\n",
       "      <th>...</th>\n",
       "      <th>f18</th>\n",
       "      <th>f19</th>\n",
       "      <th>f20</th>\n",
       "      <th>f21</th>\n",
       "      <th>f22</th>\n",
       "      <th>f23</th>\n",
       "      <th>f24</th>\n",
       "      <th>f25</th>\n",
       "      <th>f26</th>\n",
       "      <th>mass</th>\n",
       "    </tr>\n",
       "  </thead>\n",
       "  <tbody>\n",
       "    <tr>\n",
       "      <th>count</th>\n",
       "      <td>7000000.0</td>\n",
       "      <td>7.000000e+06</td>\n",
       "      <td>7.000000e+06</td>\n",
       "      <td>7.000000e+06</td>\n",
       "      <td>7.000000e+06</td>\n",
       "      <td>7.000000e+06</td>\n",
       "      <td>7.000000e+06</td>\n",
       "      <td>7.000000e+06</td>\n",
       "      <td>7.000000e+06</td>\n",
       "      <td>7.000000e+06</td>\n",
       "      <td>...</td>\n",
       "      <td>7.000000e+06</td>\n",
       "      <td>7.000000e+06</td>\n",
       "      <td>7.000000e+06</td>\n",
       "      <td>7.000000e+06</td>\n",
       "      <td>7.000000e+06</td>\n",
       "      <td>7.000000e+06</td>\n",
       "      <td>7.000000e+06</td>\n",
       "      <td>7.000000e+06</td>\n",
       "      <td>7.000000e+06</td>\n",
       "      <td>7000000.0</td>\n",
       "    </tr>\n",
       "    <tr>\n",
       "      <th>mean</th>\n",
       "      <td>NaN</td>\n",
       "      <td>NaN</td>\n",
       "      <td>0.000000e+00</td>\n",
       "      <td>0.000000e+00</td>\n",
       "      <td>NaN</td>\n",
       "      <td>-0.000000e+00</td>\n",
       "      <td>0.000000e+00</td>\n",
       "      <td>NaN</td>\n",
       "      <td>0.000000e+00</td>\n",
       "      <td>0.000000e+00</td>\n",
       "      <td>...</td>\n",
       "      <td>NaN</td>\n",
       "      <td>-0.000000e+00</td>\n",
       "      <td>0.000000e+00</td>\n",
       "      <td>0.000000e+00</td>\n",
       "      <td>NaN</td>\n",
       "      <td>NaN</td>\n",
       "      <td>0.000000e+00</td>\n",
       "      <td>-0.000000e+00</td>\n",
       "      <td>NaN</td>\n",
       "      <td>NaN</td>\n",
       "    </tr>\n",
       "    <tr>\n",
       "      <th>std</th>\n",
       "      <td>0.0</td>\n",
       "      <td>0.000000e+00</td>\n",
       "      <td>0.000000e+00</td>\n",
       "      <td>0.000000e+00</td>\n",
       "      <td>0.000000e+00</td>\n",
       "      <td>0.000000e+00</td>\n",
       "      <td>0.000000e+00</td>\n",
       "      <td>0.000000e+00</td>\n",
       "      <td>0.000000e+00</td>\n",
       "      <td>0.000000e+00</td>\n",
       "      <td>...</td>\n",
       "      <td>0.000000e+00</td>\n",
       "      <td>0.000000e+00</td>\n",
       "      <td>0.000000e+00</td>\n",
       "      <td>0.000000e+00</td>\n",
       "      <td>0.000000e+00</td>\n",
       "      <td>0.000000e+00</td>\n",
       "      <td>0.000000e+00</td>\n",
       "      <td>0.000000e+00</td>\n",
       "      <td>0.000000e+00</td>\n",
       "      <td>NaN</td>\n",
       "    </tr>\n",
       "    <tr>\n",
       "      <th>min</th>\n",
       "      <td>0.0</td>\n",
       "      <td>-1.960938e+00</td>\n",
       "      <td>-2.365234e+00</td>\n",
       "      <td>-1.732422e+00</td>\n",
       "      <td>-9.976562e+00</td>\n",
       "      <td>-1.732422e+00</td>\n",
       "      <td>-1.054688e+00</td>\n",
       "      <td>-3.035156e+00</td>\n",
       "      <td>-2.757812e+00</td>\n",
       "      <td>-1.732422e+00</td>\n",
       "      <td>...</td>\n",
       "      <td>-1.728516e+00</td>\n",
       "      <td>-2.281250e+00</td>\n",
       "      <td>-1.731445e+00</td>\n",
       "      <td>-5.737305e-01</td>\n",
       "      <td>-3.630859e+00</td>\n",
       "      <td>-4.730469e+00</td>\n",
       "      <td>-2.062500e+01</td>\n",
       "      <td>-3.453125e+00</td>\n",
       "      <td>-2.632812e+00</td>\n",
       "      <td>500.0</td>\n",
       "    </tr>\n",
       "    <tr>\n",
       "      <th>25%</th>\n",
       "      <td>0.0</td>\n",
       "      <td>-7.290039e-01</td>\n",
       "      <td>-7.333984e-01</td>\n",
       "      <td>-8.657227e-01</td>\n",
       "      <td>-6.093750e-01</td>\n",
       "      <td>-8.657227e-01</td>\n",
       "      <td>-1.054688e+00</td>\n",
       "      <td>-7.568359e-01</td>\n",
       "      <td>-7.011719e-01</td>\n",
       "      <td>-8.657227e-01</td>\n",
       "      <td>...</td>\n",
       "      <td>-7.421875e-01</td>\n",
       "      <td>-7.207031e-01</td>\n",
       "      <td>-8.657227e-01</td>\n",
       "      <td>-5.737305e-01</td>\n",
       "      <td>-5.419922e-01</td>\n",
       "      <td>-5.117188e-01</td>\n",
       "      <td>-3.544922e-01</td>\n",
       "      <td>-6.923828e-01</td>\n",
       "      <td>-7.944336e-01</td>\n",
       "      <td>750.0</td>\n",
       "    </tr>\n",
       "    <tr>\n",
       "      <th>50%</th>\n",
       "      <td>1.0</td>\n",
       "      <td>-3.930664e-02</td>\n",
       "      <td>8.523464e-04</td>\n",
       "      <td>3.198385e-04</td>\n",
       "      <td>1.963806e-02</td>\n",
       "      <td>-5.071163e-04</td>\n",
       "      <td>-5.985260e-03</td>\n",
       "      <td>-1.499023e-01</td>\n",
       "      <td>-1.067519e-04</td>\n",
       "      <td>1.384735e-03</td>\n",
       "      <td>...</td>\n",
       "      <td>-8.990479e-02</td>\n",
       "      <td>-6.735325e-05</td>\n",
       "      <td>-4.425049e-04</td>\n",
       "      <td>-5.737305e-01</td>\n",
       "      <td>-1.602783e-01</td>\n",
       "      <td>-3.144531e-01</td>\n",
       "      <td>-3.264160e-01</td>\n",
       "      <td>-3.569336e-01</td>\n",
       "      <td>-8.828735e-02</td>\n",
       "      <td>1000.0</td>\n",
       "    </tr>\n",
       "    <tr>\n",
       "      <th>75%</th>\n",
       "      <td>1.0</td>\n",
       "      <td>6.899414e-01</td>\n",
       "      <td>7.348633e-01</td>\n",
       "      <td>8.657227e-01</td>\n",
       "      <td>6.796875e-01</td>\n",
       "      <td>8.657227e-01</td>\n",
       "      <td>8.505859e-01</td>\n",
       "      <td>7.685547e-01</td>\n",
       "      <td>7.011719e-01</td>\n",
       "      <td>8.666992e-01</td>\n",
       "      <td>...</td>\n",
       "      <td>6.420898e-01</td>\n",
       "      <td>7.207031e-01</td>\n",
       "      <td>8.657227e-01</td>\n",
       "      <td>-5.737305e-01</td>\n",
       "      <td>4.812012e-01</td>\n",
       "      <td>1.634521e-01</td>\n",
       "      <td>-2.337646e-01</td>\n",
       "      <td>4.753418e-01</td>\n",
       "      <td>7.612305e-01</td>\n",
       "      <td>1250.0</td>\n",
       "    </tr>\n",
       "    <tr>\n",
       "      <th>max</th>\n",
       "      <td>1.0</td>\n",
       "      <td>4.378906e+00</td>\n",
       "      <td>2.365234e+00</td>\n",
       "      <td>1.732422e+00</td>\n",
       "      <td>4.148438e+00</td>\n",
       "      <td>1.732422e+00</td>\n",
       "      <td>4.484375e+00</td>\n",
       "      <td>3.720703e+00</td>\n",
       "      <td>2.757812e+00</td>\n",
       "      <td>1.731445e+00</td>\n",
       "      <td>...</td>\n",
       "      <td>5.867188e+00</td>\n",
       "      <td>2.281250e+00</td>\n",
       "      <td>1.732422e+00</td>\n",
       "      <td>1.743164e+00</td>\n",
       "      <td>7.292969e+00</td>\n",
       "      <td>9.335938e+00</td>\n",
       "      <td>1.499219e+01</td>\n",
       "      <td>5.277344e+00</td>\n",
       "      <td>4.445312e+00</td>\n",
       "      <td>1500.0</td>\n",
       "    </tr>\n",
       "  </tbody>\n",
       "</table>\n",
       "<p>8 rows × 29 columns</p>\n",
       "</div>"
      ],
      "text/plain": [
       "         # label            f0            f1            f2            f3  \\\n",
       "count  7000000.0  7.000000e+06  7.000000e+06  7.000000e+06  7.000000e+06   \n",
       "mean         NaN           NaN  0.000000e+00  0.000000e+00           NaN   \n",
       "std          0.0  0.000000e+00  0.000000e+00  0.000000e+00  0.000000e+00   \n",
       "min          0.0 -1.960938e+00 -2.365234e+00 -1.732422e+00 -9.976562e+00   \n",
       "25%          0.0 -7.290039e-01 -7.333984e-01 -8.657227e-01 -6.093750e-01   \n",
       "50%          1.0 -3.930664e-02  8.523464e-04  3.198385e-04  1.963806e-02   \n",
       "75%          1.0  6.899414e-01  7.348633e-01  8.657227e-01  6.796875e-01   \n",
       "max          1.0  4.378906e+00  2.365234e+00  1.732422e+00  4.148438e+00   \n",
       "\n",
       "                 f4            f5            f6            f7            f8  \\\n",
       "count  7.000000e+06  7.000000e+06  7.000000e+06  7.000000e+06  7.000000e+06   \n",
       "mean  -0.000000e+00  0.000000e+00           NaN  0.000000e+00  0.000000e+00   \n",
       "std    0.000000e+00  0.000000e+00  0.000000e+00  0.000000e+00  0.000000e+00   \n",
       "min   -1.732422e+00 -1.054688e+00 -3.035156e+00 -2.757812e+00 -1.732422e+00   \n",
       "25%   -8.657227e-01 -1.054688e+00 -7.568359e-01 -7.011719e-01 -8.657227e-01   \n",
       "50%   -5.071163e-04 -5.985260e-03 -1.499023e-01 -1.067519e-04  1.384735e-03   \n",
       "75%    8.657227e-01  8.505859e-01  7.685547e-01  7.011719e-01  8.666992e-01   \n",
       "max    1.732422e+00  4.484375e+00  3.720703e+00  2.757812e+00  1.731445e+00   \n",
       "\n",
       "       ...           f18           f19           f20           f21  \\\n",
       "count  ...  7.000000e+06  7.000000e+06  7.000000e+06  7.000000e+06   \n",
       "mean   ...           NaN -0.000000e+00  0.000000e+00  0.000000e+00   \n",
       "std    ...  0.000000e+00  0.000000e+00  0.000000e+00  0.000000e+00   \n",
       "min    ... -1.728516e+00 -2.281250e+00 -1.731445e+00 -5.737305e-01   \n",
       "25%    ... -7.421875e-01 -7.207031e-01 -8.657227e-01 -5.737305e-01   \n",
       "50%    ... -8.990479e-02 -6.735325e-05 -4.425049e-04 -5.737305e-01   \n",
       "75%    ...  6.420898e-01  7.207031e-01  8.657227e-01 -5.737305e-01   \n",
       "max    ...  5.867188e+00  2.281250e+00  1.732422e+00  1.743164e+00   \n",
       "\n",
       "                f22           f23           f24           f25           f26  \\\n",
       "count  7.000000e+06  7.000000e+06  7.000000e+06  7.000000e+06  7.000000e+06   \n",
       "mean            NaN           NaN  0.000000e+00 -0.000000e+00           NaN   \n",
       "std    0.000000e+00  0.000000e+00  0.000000e+00  0.000000e+00  0.000000e+00   \n",
       "min   -3.630859e+00 -4.730469e+00 -2.062500e+01 -3.453125e+00 -2.632812e+00   \n",
       "25%   -5.419922e-01 -5.117188e-01 -3.544922e-01 -6.923828e-01 -7.944336e-01   \n",
       "50%   -1.602783e-01 -3.144531e-01 -3.264160e-01 -3.569336e-01 -8.828735e-02   \n",
       "75%    4.812012e-01  1.634521e-01 -2.337646e-01  4.753418e-01  7.612305e-01   \n",
       "max    7.292969e+00  9.335938e+00  1.499219e+01  5.277344e+00  4.445312e+00   \n",
       "\n",
       "            mass  \n",
       "count  7000000.0  \n",
       "mean         NaN  \n",
       "std          NaN  \n",
       "min        500.0  \n",
       "25%        750.0  \n",
       "50%       1000.0  \n",
       "75%       1250.0  \n",
       "max       1500.0  \n",
       "\n",
       "[8 rows x 29 columns]"
      ]
     },
     "execution_count": 6,
     "metadata": {},
     "output_type": "execute_result"
    }
   ],
   "source": [
    "df.describe()"
   ]
  },
  {
   "cell_type": "code",
   "execution_count": 7,
   "metadata": {},
   "outputs": [
    {
     "name": "stdout",
     "output_type": "stream",
     "text": [
      "# label    0\n",
      "f0         0\n",
      "f1         0\n",
      "f2         0\n",
      "f3         0\n",
      "f4         0\n",
      "f5         0\n",
      "f6         0\n",
      "f7         0\n",
      "f8         0\n",
      "f9         0\n",
      "f10        0\n",
      "f11        0\n",
      "f12        0\n",
      "f13        0\n",
      "f14        0\n",
      "f15        0\n",
      "f16        0\n",
      "f17        0\n",
      "f18        0\n",
      "f19        0\n",
      "f20        0\n",
      "f21        0\n",
      "f22        0\n",
      "f23        0\n",
      "f24        0\n",
      "f25        0\n",
      "f26        0\n",
      "mass       0\n",
      "dtype: int64\n"
     ]
    }
   ],
   "source": [
    "count_na = df.isna().sum()\n",
    "print(count_na)\n",
    "class_counts = df['# label'].value_counts()"
   ]
  },
  {
   "cell_type": "code",
   "execution_count": 8,
   "metadata": {},
   "outputs": [
    {
     "data": {
      "application/vnd.plotly.v1+json": {
       "config": {
        "plotlyServerURL": "https://plot.ly"
       },
       "data": [
        {
         "marker": {
          "color": "#92B2F7"
         },
         "name": "1.0",
         "orientation": "h",
         "text": [
          "3500879"
         ],
         "textposition": "auto",
         "type": "bar",
         "x": [
          3500879
         ],
         "y": [
          "1.0"
         ]
        },
        {
         "marker": {
          "color": "#FA7D7A"
         },
         "name": "0.0",
         "orientation": "h",
         "text": [
          "3499121"
         ],
         "textposition": "auto",
         "type": "bar",
         "x": [
          3499121
         ],
         "y": [
          "0.0"
         ]
        }
       ],
       "layout": {
        "autosize": false,
        "height": 500,
        "margin": {
         "b": 100,
         "l": 50,
         "pad": 4,
         "r": 50,
         "t": 100
        },
        "plot_bgcolor": "white",
        "showlegend": false,
        "template": {
         "data": {
          "bar": [
           {
            "error_x": {
             "color": "#2a3f5f"
            },
            "error_y": {
             "color": "#2a3f5f"
            },
            "marker": {
             "line": {
              "color": "#E5ECF6",
              "width": 0.5
             },
             "pattern": {
              "fillmode": "overlay",
              "size": 10,
              "solidity": 0.2
             }
            },
            "type": "bar"
           }
          ],
          "barpolar": [
           {
            "marker": {
             "line": {
              "color": "#E5ECF6",
              "width": 0.5
             },
             "pattern": {
              "fillmode": "overlay",
              "size": 10,
              "solidity": 0.2
             }
            },
            "type": "barpolar"
           }
          ],
          "carpet": [
           {
            "aaxis": {
             "endlinecolor": "#2a3f5f",
             "gridcolor": "white",
             "linecolor": "white",
             "minorgridcolor": "white",
             "startlinecolor": "#2a3f5f"
            },
            "baxis": {
             "endlinecolor": "#2a3f5f",
             "gridcolor": "white",
             "linecolor": "white",
             "minorgridcolor": "white",
             "startlinecolor": "#2a3f5f"
            },
            "type": "carpet"
           }
          ],
          "choropleth": [
           {
            "colorbar": {
             "outlinewidth": 0,
             "ticks": ""
            },
            "type": "choropleth"
           }
          ],
          "contour": [
           {
            "colorbar": {
             "outlinewidth": 0,
             "ticks": ""
            },
            "colorscale": [
             [
              0,
              "#0d0887"
             ],
             [
              0.1111111111111111,
              "#46039f"
             ],
             [
              0.2222222222222222,
              "#7201a8"
             ],
             [
              0.3333333333333333,
              "#9c179e"
             ],
             [
              0.4444444444444444,
              "#bd3786"
             ],
             [
              0.5555555555555556,
              "#d8576b"
             ],
             [
              0.6666666666666666,
              "#ed7953"
             ],
             [
              0.7777777777777778,
              "#fb9f3a"
             ],
             [
              0.8888888888888888,
              "#fdca26"
             ],
             [
              1,
              "#f0f921"
             ]
            ],
            "type": "contour"
           }
          ],
          "contourcarpet": [
           {
            "colorbar": {
             "outlinewidth": 0,
             "ticks": ""
            },
            "type": "contourcarpet"
           }
          ],
          "heatmap": [
           {
            "colorbar": {
             "outlinewidth": 0,
             "ticks": ""
            },
            "colorscale": [
             [
              0,
              "#0d0887"
             ],
             [
              0.1111111111111111,
              "#46039f"
             ],
             [
              0.2222222222222222,
              "#7201a8"
             ],
             [
              0.3333333333333333,
              "#9c179e"
             ],
             [
              0.4444444444444444,
              "#bd3786"
             ],
             [
              0.5555555555555556,
              "#d8576b"
             ],
             [
              0.6666666666666666,
              "#ed7953"
             ],
             [
              0.7777777777777778,
              "#fb9f3a"
             ],
             [
              0.8888888888888888,
              "#fdca26"
             ],
             [
              1,
              "#f0f921"
             ]
            ],
            "type": "heatmap"
           }
          ],
          "heatmapgl": [
           {
            "colorbar": {
             "outlinewidth": 0,
             "ticks": ""
            },
            "colorscale": [
             [
              0,
              "#0d0887"
             ],
             [
              0.1111111111111111,
              "#46039f"
             ],
             [
              0.2222222222222222,
              "#7201a8"
             ],
             [
              0.3333333333333333,
              "#9c179e"
             ],
             [
              0.4444444444444444,
              "#bd3786"
             ],
             [
              0.5555555555555556,
              "#d8576b"
             ],
             [
              0.6666666666666666,
              "#ed7953"
             ],
             [
              0.7777777777777778,
              "#fb9f3a"
             ],
             [
              0.8888888888888888,
              "#fdca26"
             ],
             [
              1,
              "#f0f921"
             ]
            ],
            "type": "heatmapgl"
           }
          ],
          "histogram": [
           {
            "marker": {
             "pattern": {
              "fillmode": "overlay",
              "size": 10,
              "solidity": 0.2
             }
            },
            "type": "histogram"
           }
          ],
          "histogram2d": [
           {
            "colorbar": {
             "outlinewidth": 0,
             "ticks": ""
            },
            "colorscale": [
             [
              0,
              "#0d0887"
             ],
             [
              0.1111111111111111,
              "#46039f"
             ],
             [
              0.2222222222222222,
              "#7201a8"
             ],
             [
              0.3333333333333333,
              "#9c179e"
             ],
             [
              0.4444444444444444,
              "#bd3786"
             ],
             [
              0.5555555555555556,
              "#d8576b"
             ],
             [
              0.6666666666666666,
              "#ed7953"
             ],
             [
              0.7777777777777778,
              "#fb9f3a"
             ],
             [
              0.8888888888888888,
              "#fdca26"
             ],
             [
              1,
              "#f0f921"
             ]
            ],
            "type": "histogram2d"
           }
          ],
          "histogram2dcontour": [
           {
            "colorbar": {
             "outlinewidth": 0,
             "ticks": ""
            },
            "colorscale": [
             [
              0,
              "#0d0887"
             ],
             [
              0.1111111111111111,
              "#46039f"
             ],
             [
              0.2222222222222222,
              "#7201a8"
             ],
             [
              0.3333333333333333,
              "#9c179e"
             ],
             [
              0.4444444444444444,
              "#bd3786"
             ],
             [
              0.5555555555555556,
              "#d8576b"
             ],
             [
              0.6666666666666666,
              "#ed7953"
             ],
             [
              0.7777777777777778,
              "#fb9f3a"
             ],
             [
              0.8888888888888888,
              "#fdca26"
             ],
             [
              1,
              "#f0f921"
             ]
            ],
            "type": "histogram2dcontour"
           }
          ],
          "mesh3d": [
           {
            "colorbar": {
             "outlinewidth": 0,
             "ticks": ""
            },
            "type": "mesh3d"
           }
          ],
          "parcoords": [
           {
            "line": {
             "colorbar": {
              "outlinewidth": 0,
              "ticks": ""
             }
            },
            "type": "parcoords"
           }
          ],
          "pie": [
           {
            "automargin": true,
            "type": "pie"
           }
          ],
          "scatter": [
           {
            "fillpattern": {
             "fillmode": "overlay",
             "size": 10,
             "solidity": 0.2
            },
            "type": "scatter"
           }
          ],
          "scatter3d": [
           {
            "line": {
             "colorbar": {
              "outlinewidth": 0,
              "ticks": ""
             }
            },
            "marker": {
             "colorbar": {
              "outlinewidth": 0,
              "ticks": ""
             }
            },
            "type": "scatter3d"
           }
          ],
          "scattercarpet": [
           {
            "marker": {
             "colorbar": {
              "outlinewidth": 0,
              "ticks": ""
             }
            },
            "type": "scattercarpet"
           }
          ],
          "scattergeo": [
           {
            "marker": {
             "colorbar": {
              "outlinewidth": 0,
              "ticks": ""
             }
            },
            "type": "scattergeo"
           }
          ],
          "scattergl": [
           {
            "marker": {
             "colorbar": {
              "outlinewidth": 0,
              "ticks": ""
             }
            },
            "type": "scattergl"
           }
          ],
          "scattermapbox": [
           {
            "marker": {
             "colorbar": {
              "outlinewidth": 0,
              "ticks": ""
             }
            },
            "type": "scattermapbox"
           }
          ],
          "scatterpolar": [
           {
            "marker": {
             "colorbar": {
              "outlinewidth": 0,
              "ticks": ""
             }
            },
            "type": "scatterpolar"
           }
          ],
          "scatterpolargl": [
           {
            "marker": {
             "colorbar": {
              "outlinewidth": 0,
              "ticks": ""
             }
            },
            "type": "scatterpolargl"
           }
          ],
          "scatterternary": [
           {
            "marker": {
             "colorbar": {
              "outlinewidth": 0,
              "ticks": ""
             }
            },
            "type": "scatterternary"
           }
          ],
          "surface": [
           {
            "colorbar": {
             "outlinewidth": 0,
             "ticks": ""
            },
            "colorscale": [
             [
              0,
              "#0d0887"
             ],
             [
              0.1111111111111111,
              "#46039f"
             ],
             [
              0.2222222222222222,
              "#7201a8"
             ],
             [
              0.3333333333333333,
              "#9c179e"
             ],
             [
              0.4444444444444444,
              "#bd3786"
             ],
             [
              0.5555555555555556,
              "#d8576b"
             ],
             [
              0.6666666666666666,
              "#ed7953"
             ],
             [
              0.7777777777777778,
              "#fb9f3a"
             ],
             [
              0.8888888888888888,
              "#fdca26"
             ],
             [
              1,
              "#f0f921"
             ]
            ],
            "type": "surface"
           }
          ],
          "table": [
           {
            "cells": {
             "fill": {
              "color": "#EBF0F8"
             },
             "line": {
              "color": "white"
             }
            },
            "header": {
             "fill": {
              "color": "#C8D4E3"
             },
             "line": {
              "color": "white"
             }
            },
            "type": "table"
           }
          ]
         },
         "layout": {
          "annotationdefaults": {
           "arrowcolor": "#2a3f5f",
           "arrowhead": 0,
           "arrowwidth": 1
          },
          "autotypenumbers": "strict",
          "coloraxis": {
           "colorbar": {
            "outlinewidth": 0,
            "ticks": ""
           }
          },
          "colorscale": {
           "diverging": [
            [
             0,
             "#8e0152"
            ],
            [
             0.1,
             "#c51b7d"
            ],
            [
             0.2,
             "#de77ae"
            ],
            [
             0.3,
             "#f1b6da"
            ],
            [
             0.4,
             "#fde0ef"
            ],
            [
             0.5,
             "#f7f7f7"
            ],
            [
             0.6,
             "#e6f5d0"
            ],
            [
             0.7,
             "#b8e186"
            ],
            [
             0.8,
             "#7fbc41"
            ],
            [
             0.9,
             "#4d9221"
            ],
            [
             1,
             "#276419"
            ]
           ],
           "sequential": [
            [
             0,
             "#0d0887"
            ],
            [
             0.1111111111111111,
             "#46039f"
            ],
            [
             0.2222222222222222,
             "#7201a8"
            ],
            [
             0.3333333333333333,
             "#9c179e"
            ],
            [
             0.4444444444444444,
             "#bd3786"
            ],
            [
             0.5555555555555556,
             "#d8576b"
            ],
            [
             0.6666666666666666,
             "#ed7953"
            ],
            [
             0.7777777777777778,
             "#fb9f3a"
            ],
            [
             0.8888888888888888,
             "#fdca26"
            ],
            [
             1,
             "#f0f921"
            ]
           ],
           "sequentialminus": [
            [
             0,
             "#0d0887"
            ],
            [
             0.1111111111111111,
             "#46039f"
            ],
            [
             0.2222222222222222,
             "#7201a8"
            ],
            [
             0.3333333333333333,
             "#9c179e"
            ],
            [
             0.4444444444444444,
             "#bd3786"
            ],
            [
             0.5555555555555556,
             "#d8576b"
            ],
            [
             0.6666666666666666,
             "#ed7953"
            ],
            [
             0.7777777777777778,
             "#fb9f3a"
            ],
            [
             0.8888888888888888,
             "#fdca26"
            ],
            [
             1,
             "#f0f921"
            ]
           ]
          },
          "colorway": [
           "#636efa",
           "#EF553B",
           "#00cc96",
           "#ab63fa",
           "#FFA15A",
           "#19d3f3",
           "#FF6692",
           "#B6E880",
           "#FF97FF",
           "#FECB52"
          ],
          "font": {
           "color": "#2a3f5f"
          },
          "geo": {
           "bgcolor": "white",
           "lakecolor": "white",
           "landcolor": "#E5ECF6",
           "showlakes": true,
           "showland": true,
           "subunitcolor": "white"
          },
          "hoverlabel": {
           "align": "left"
          },
          "hovermode": "closest",
          "mapbox": {
           "style": "light"
          },
          "paper_bgcolor": "white",
          "plot_bgcolor": "#E5ECF6",
          "polar": {
           "angularaxis": {
            "gridcolor": "white",
            "linecolor": "white",
            "ticks": ""
           },
           "bgcolor": "#E5ECF6",
           "radialaxis": {
            "gridcolor": "white",
            "linecolor": "white",
            "ticks": ""
           }
          },
          "scene": {
           "xaxis": {
            "backgroundcolor": "#E5ECF6",
            "gridcolor": "white",
            "gridwidth": 2,
            "linecolor": "white",
            "showbackground": true,
            "ticks": "",
            "zerolinecolor": "white"
           },
           "yaxis": {
            "backgroundcolor": "#E5ECF6",
            "gridcolor": "white",
            "gridwidth": 2,
            "linecolor": "white",
            "showbackground": true,
            "ticks": "",
            "zerolinecolor": "white"
           },
           "zaxis": {
            "backgroundcolor": "#E5ECF6",
            "gridcolor": "white",
            "gridwidth": 2,
            "linecolor": "white",
            "showbackground": true,
            "ticks": "",
            "zerolinecolor": "white"
           }
          },
          "shapedefaults": {
           "line": {
            "color": "#2a3f5f"
           }
          },
          "ternary": {
           "aaxis": {
            "gridcolor": "white",
            "linecolor": "white",
            "ticks": ""
           },
           "baxis": {
            "gridcolor": "white",
            "linecolor": "white",
            "ticks": ""
           },
           "bgcolor": "#E5ECF6",
           "caxis": {
            "gridcolor": "white",
            "linecolor": "white",
            "ticks": ""
           }
          },
          "title": {
           "x": 0.05
          },
          "xaxis": {
           "automargin": true,
           "gridcolor": "white",
           "linecolor": "white",
           "ticks": "",
           "title": {
            "standoff": 15
           },
           "zerolinecolor": "white",
           "zerolinewidth": 2
          },
          "yaxis": {
           "automargin": true,
           "gridcolor": "white",
           "linecolor": "white",
           "ticks": "",
           "title": {
            "standoff": 15
           },
           "zerolinecolor": "white",
           "zerolinewidth": 2
          }
         }
        },
        "title": {
         "text": "Frequency of Particle Existing or Not Existing",
         "x": 0.5
        },
        "width": 500,
        "xaxis": {
         "gridcolor": "lightgrey",
         "title": {
          "text": "Frequency"
         }
        },
        "yaxis": {
         "title": {
          "text": "Label"
         }
        }
       }
      }
     },
     "metadata": {},
     "output_type": "display_data"
    }
   ],
   "source": [
    "color_list = ['#92B2F7', '#FA7D7A']\n",
    "fig = go.Figure()\n",
    "#create a horizontal bar for each class in the particle data.\n",
    "for idx, (label, count) in enumerate(class_counts.items()):\n",
    "    fig.add_trace(\n",
    "        go.Bar(\n",
    "            y=[str(label)],\n",
    "            x=[count],\n",
    "            name=str(label),\n",
    "            orientation='h',\n",
    "            text=[count],\n",
    "            textposition='auto',\n",
    "            marker_color=color_list[idx % len(color_list)]\n",
    "        )\n",
    "    )\n",
    "\n",
    "fig.update_layout(\n",
    "    title_text='Frequency of Particle Existing or Not Existing',\n",
    "    title_x=0.5, \n",
    "    xaxis_title='Frequency',\n",
    "    yaxis_title='Label',\n",
    "    showlegend = False,\n",
    "    autosize=False,\n",
    "    width=500,\n",
    "    height=500,\n",
    "    margin=dict(l=50, r=50, b=100, t=100, pad=4),\n",
    "    plot_bgcolor='white', \n",
    "    xaxis=dict(gridcolor='lightgrey')\n",
    ")\n",
    "\n",
    "fig.show()"
   ]
  },
  {
   "attachments": {},
   "cell_type": "markdown",
   "metadata": {},
   "source": [
    "##### Standardization of Data"
   ]
  },
  {
   "cell_type": "code",
   "execution_count": 9,
   "metadata": {},
   "outputs": [],
   "source": [
    "#split the label values into y and the features into X\n",
    "y = df['# label'].values\n",
    "X = df.drop('# label', axis=1).values\n",
    "\n",
    "scaler = StandardScaler()\n",
    "X = scaler.fit_transform(X)\n",
    "\n",
    "#split into train and test set\n",
    "X_train, X_temp, y_train, y_temp = train_test_split(X, y, test_size=0.3, random_state=1234)\n",
    "\n",
    "#split test set into validation and test set\n",
    "X_val, X_test, y_val, y_test = train_test_split(X_temp, y_temp, test_size=0.5, random_state=1234)"
   ]
  },
  {
   "attachments": {},
   "cell_type": "markdown",
   "metadata": {},
   "source": [
    "##### Dense Neural Network"
   ]
  },
  {
   "cell_type": "code",
   "execution_count": 35,
   "metadata": {},
   "outputs": [],
   "source": [
    "def build_model(hp):\n",
    "    model = keras.Sequential()\n",
    "\n",
    "    #Add hidden layers\n",
    "    for i in range(hp.Int('num_layers', 2, 6)):\n",
    "        model.add(layers.Dense(units=hp.Int('units_' + str(i), min_value=16, max_value=512, step=8), activation='relu'))\n",
    "\n",
    "    #Add output layer\n",
    "    model.add(layers.Dense(1, activation='sigmoid'))\n",
    "\n",
    "    #Compile the model\n",
    "    model.compile(\n",
    "        optimizer=keras.optimizers.Adam(hp.Choice('learning_rate', [1e-2, 1e-3, 1e-4])), loss='binary_crossentropy', metrics=['accuracy'])\n",
    "\n",
    "    return model"
   ]
  },
  {
   "cell_type": "code",
   "execution_count": 38,
   "metadata": {},
   "outputs": [],
   "source": [
    "#build a keras_tuner RandomSearch to tune the training process and optimize the Neural Network\n",
    "# https://www.tensorflow.org/tutorials/keras/keras_tuner\n",
    "tuner = kt.Hyperband(\n",
    "    build_model,\n",
    "    objective='val_accuracy',\n",
    "    max_epochs=15,\n",
    "    factor=3,\n",
    "    directory='hp_tuning',\n",
    "    project_name='Particle_CS6',\n",
    "    overwrite=True\n",
    ")\n",
    "es_callback = tf.keras.callbacks.EarlyStopping(monitor='val_loss', patience=5)"
   ]
  },
  {
   "cell_type": "code",
   "execution_count": 39,
   "metadata": {},
   "outputs": [
    {
     "name": "stdout",
     "output_type": "stream",
     "text": [
      "Trial 30 Complete [00h 58m 13s]\n",
      "val_accuracy: 0.8819666504859924\n",
      "\n",
      "Best val_accuracy So Far: 0.8858504891395569\n",
      "Total elapsed time: 12h 44m 33s\n",
      "INFO:tensorflow:Oracle triggered exit\n"
     ]
    },
    {
     "ename": "KeyError",
     "evalue": "'units does not exist.'",
     "output_type": "error",
     "traceback": [
      "\u001b[1;31m---------------------------------------------------------------------------\u001b[0m",
      "\u001b[1;31mKeyError\u001b[0m                                  Traceback (most recent call last)",
      "Cell \u001b[1;32mIn[39], line 11\u001b[0m\n\u001b[0;32m      7\u001b[0m \u001b[39m#get the best hyperparameters and store them in a var\u001b[39;00m\n\u001b[0;32m      8\u001b[0m best_hps \u001b[39m=\u001b[39m tuner\u001b[39m.\u001b[39mget_best_hyperparameters(num_trials\u001b[39m=\u001b[39m\u001b[39m1\u001b[39m)[\u001b[39m0\u001b[39m]\n\u001b[0;32m      9\u001b[0m \u001b[39mprint\u001b[39m(\u001b[39mf\u001b[39m\u001b[39m\"\"\"\u001b[39m\n\u001b[0;32m     10\u001b[0m \u001b[39mThe hyperparameter search is complete. The optimal number of units in the first densely-connected\u001b[39m\n\u001b[1;32m---> 11\u001b[0m \u001b[39mlayer is \u001b[39m\u001b[39m{\u001b[39;00mbest_hps\u001b[39m.\u001b[39mget(\u001b[39m'\u001b[39m\u001b[39munits\u001b[39m\u001b[39m'\u001b[39m)\u001b[39m}\u001b[39;00m\u001b[39m and the optimal learning rate for the optimizer\u001b[39m\n\u001b[0;32m     12\u001b[0m \u001b[39mis \u001b[39m\u001b[39m{\u001b[39;00mbest_hps\u001b[39m.\u001b[39mget(\u001b[39m'\u001b[39m\u001b[39mlearning_rate\u001b[39m\u001b[39m'\u001b[39m)\u001b[39m}\u001b[39;00m\u001b[39m.\u001b[39m\n\u001b[0;32m     13\u001b[0m \u001b[39m\"\"\"\u001b[39m)\n\u001b[0;32m     14\u001b[0m denseNN_model \u001b[39m=\u001b[39m tuner\u001b[39m.\u001b[39mhypermodel\u001b[39m.\u001b[39mbuild(best_hps)\n\u001b[0;32m     15\u001b[0m model \u001b[39m=\u001b[39m denseNN_model\u001b[39m.\u001b[39mfit(X_train, y_train, epochs\u001b[39m=\u001b[39m\u001b[39m500\u001b[39m, validation_data\u001b[39m=\u001b[39m(X_val, y_val), callbacks\u001b[39m=\u001b[39m[es_callback])\n",
      "File \u001b[1;32m~\\AppData\\Roaming\\Python\\Python38\\site-packages\\keras_tuner\\engine\\hyperparameters\\hyperparameters.py:241\u001b[0m, in \u001b[0;36mHyperParameters.get\u001b[1;34m(self, name)\u001b[0m\n\u001b[0;32m    239\u001b[0m     \u001b[39mraise\u001b[39;00m \u001b[39mValueError\u001b[39;00m(\u001b[39mf\u001b[39m\u001b[39m\"\u001b[39m\u001b[39m{\u001b[39;00mname\u001b[39m}\u001b[39;00m\u001b[39m is currently inactive.\u001b[39m\u001b[39m\"\u001b[39m)\n\u001b[0;32m    240\u001b[0m \u001b[39melse\u001b[39;00m:\n\u001b[1;32m--> 241\u001b[0m     \u001b[39mraise\u001b[39;00m \u001b[39mKeyError\u001b[39;00m(\u001b[39mf\u001b[39m\u001b[39m\"\u001b[39m\u001b[39m{\u001b[39;00mname\u001b[39m}\u001b[39;00m\u001b[39m does not exist.\u001b[39m\u001b[39m\"\u001b[39m)\n",
      "\u001b[1;31mKeyError\u001b[0m: 'units does not exist.'"
     ]
    }
   ],
   "source": [
    "#train the DNN with a hyper parameter search\n",
    "tuner.search(X_train, y_train,\n",
    "             epochs=50,\n",
    "             validation_data=(X_val, y_val),\n",
    "             callbacks=[es_callback])\n",
    "\n",
    "#get the best hyperparameters and store them in a var\n",
    "best_hps = tuner.get_best_hyperparameters(num_trials=1)[0]\n",
    "\n",
    "\n"
   ]
  },
  {
   "attachments": {},
   "cell_type": "markdown",
   "metadata": {},
   "source": [
    "Error occured not in the code to tune the hyperparameters but in a print statement that was referencing a bad variable name.  Moved the code after to a new cell and ran from there given that the extensive training time had completed successfully."
   ]
  },
  {
   "attachments": {},
   "cell_type": "markdown",
   "metadata": {},
   "source": [
    "##### Train using the best hyperparameters\n",
    "\n",
    "After using the Hyperband to tune the hyperparameters, the identified 'best' hyperparameters will be used to train a final model."
   ]
  },
  {
   "cell_type": "code",
   "execution_count": 40,
   "metadata": {},
   "outputs": [
    {
     "name": "stdout",
     "output_type": "stream",
     "text": [
      "Epoch 1/500\n",
      "153125/153125 [==============================] - 291s 2ms/step - loss: 0.2754 - accuracy: 0.8748 - val_loss: 0.2664 - val_accuracy: 0.8801\n",
      "Epoch 2/500\n",
      "153125/153125 [==============================] - 278s 2ms/step - loss: 0.2638 - accuracy: 0.8813 - val_loss: 0.2616 - val_accuracy: 0.8825\n",
      "Epoch 3/500\n",
      "153125/153125 [==============================] - 274s 2ms/step - loss: 0.2609 - accuracy: 0.8828 - val_loss: 0.2604 - val_accuracy: 0.8835\n",
      "Epoch 4/500\n",
      "153125/153125 [==============================] - 289s 2ms/step - loss: 0.2592 - accuracy: 0.8839 - val_loss: 0.2591 - val_accuracy: 0.8841\n",
      "Epoch 5/500\n",
      "153125/153125 [==============================] - 275s 2ms/step - loss: 0.2580 - accuracy: 0.8846 - val_loss: 0.2593 - val_accuracy: 0.8840\n",
      "Epoch 6/500\n",
      "153125/153125 [==============================] - 277s 2ms/step - loss: 0.2571 - accuracy: 0.8851 - val_loss: 0.2588 - val_accuracy: 0.8843\n",
      "Epoch 7/500\n",
      "153125/153125 [==============================] - 285s 2ms/step - loss: 0.2563 - accuracy: 0.8855 - val_loss: 0.2581 - val_accuracy: 0.8847\n",
      "Epoch 8/500\n",
      "153125/153125 [==============================] - 285s 2ms/step - loss: 0.2557 - accuracy: 0.8858 - val_loss: 0.2587 - val_accuracy: 0.8846\n",
      "Epoch 9/500\n",
      "153125/153125 [==============================] - 285s 2ms/step - loss: 0.2550 - accuracy: 0.8862 - val_loss: 0.2566 - val_accuracy: 0.8852\n",
      "Epoch 10/500\n",
      "153125/153125 [==============================] - 286s 2ms/step - loss: 0.2543 - accuracy: 0.8866 - val_loss: 0.2563 - val_accuracy: 0.8853\n",
      "Epoch 11/500\n",
      "153125/153125 [==============================] - 287s 2ms/step - loss: 0.2537 - accuracy: 0.8869 - val_loss: 0.2565 - val_accuracy: 0.8855\n",
      "Epoch 12/500\n",
      "153125/153125 [==============================] - 280s 2ms/step - loss: 0.2532 - accuracy: 0.8873 - val_loss: 0.2568 - val_accuracy: 0.8855\n",
      "Epoch 13/500\n",
      "153125/153125 [==============================] - 267s 2ms/step - loss: 0.2527 - accuracy: 0.8875 - val_loss: 0.2562 - val_accuracy: 0.8857\n",
      "Epoch 14/500\n",
      "153125/153125 [==============================] - 285s 2ms/step - loss: 0.2521 - accuracy: 0.8878 - val_loss: 0.2560 - val_accuracy: 0.8857\n",
      "Epoch 15/500\n",
      "153125/153125 [==============================] - 280s 2ms/step - loss: 0.2517 - accuracy: 0.8880 - val_loss: 0.2550 - val_accuracy: 0.8863\n",
      "Epoch 16/500\n",
      "153125/153125 [==============================] - 283s 2ms/step - loss: 0.2512 - accuracy: 0.8882 - val_loss: 0.2552 - val_accuracy: 0.8862\n",
      "Epoch 17/500\n",
      "153125/153125 [==============================] - 282s 2ms/step - loss: 0.2508 - accuracy: 0.8885 - val_loss: 0.2560 - val_accuracy: 0.8862\n",
      "Epoch 18/500\n",
      "153125/153125 [==============================] - 285s 2ms/step - loss: 0.2504 - accuracy: 0.8887 - val_loss: 0.2554 - val_accuracy: 0.8860\n",
      "Epoch 19/500\n",
      "153125/153125 [==============================] - 285s 2ms/step - loss: 0.2501 - accuracy: 0.8890 - val_loss: 0.2560 - val_accuracy: 0.8858\n",
      "Epoch 20/500\n",
      "153125/153125 [==============================] - 284s 2ms/step - loss: 0.2499 - accuracy: 0.8890 - val_loss: 0.2561 - val_accuracy: 0.8858\n"
     ]
    }
   ],
   "source": [
    "denseNN_model = tuner.hypermodel.build(best_hps)\n",
    "model = denseNN_model.fit(X_train, y_train, epochs=500, validation_data=(X_val, y_val), callbacks=[es_callback])\n"
   ]
  },
  {
   "cell_type": "code",
   "execution_count": 46,
   "metadata": {},
   "outputs": [
    {
     "data": {
      "text/plain": [
       "{'num_layers': 4,\n",
       " 'units_0': 384,\n",
       " 'units_1': 312,\n",
       " 'learning_rate': 0.0001,\n",
       " 'units_2': 448,\n",
       " 'units_3': 472,\n",
       " 'units_4': 296,\n",
       " 'units_5': 360,\n",
       " 'tuner/epochs': 15,\n",
       " 'tuner/initial_epoch': 5,\n",
       " 'tuner/bracket': 2,\n",
       " 'tuner/round': 2,\n",
       " 'tuner/trial_id': '0014'}"
      ]
     },
     "execution_count": 46,
     "metadata": {},
     "output_type": "execute_result"
    }
   ],
   "source": [
    "best_hps.values"
   ]
  },
  {
   "cell_type": "code",
   "execution_count": 57,
   "metadata": {},
   "outputs": [
    {
     "name": "stdout",
     "output_type": "stream",
     "text": [
      "Results summary\n",
      "Results in hp_tuning\\Particle_CS6\n",
      "Showing 10 best trials\n",
      "Objective(name=\"val_accuracy\", direction=\"max\")\n",
      "\n",
      "Trial 0016 summary\n",
      "Hyperparameters:\n",
      "num_layers: 4\n",
      "units_0: 384\n",
      "units_1: 312\n",
      "learning_rate: 0.0001\n",
      "units_2: 448\n",
      "units_3: 472\n",
      "units_4: 296\n",
      "units_5: 360\n",
      "tuner/epochs: 15\n",
      "tuner/initial_epoch: 5\n",
      "tuner/bracket: 2\n",
      "tuner/round: 2\n",
      "tuner/trial_id: 0014\n",
      "Score: 0.8858504891395569\n",
      "\n",
      "Trial 0017 summary\n",
      "Hyperparameters:\n",
      "num_layers: 4\n",
      "units_0: 432\n",
      "units_1: 232\n",
      "learning_rate: 0.0001\n",
      "units_2: 184\n",
      "units_3: 48\n",
      "units_4: 488\n",
      "units_5: 216\n",
      "tuner/epochs: 15\n",
      "tuner/initial_epoch: 5\n",
      "tuner/bracket: 2\n",
      "tuner/round: 2\n",
      "tuner/trial_id: 0012\n",
      "Score: 0.8855599761009216\n",
      "\n",
      "Trial 0024 summary\n",
      "Hyperparameters:\n",
      "num_layers: 6\n",
      "units_0: 128\n",
      "units_1: 440\n",
      "learning_rate: 0.0001\n",
      "units_2: 488\n",
      "units_3: 344\n",
      "units_4: 320\n",
      "units_5: 472\n",
      "tuner/epochs: 15\n",
      "tuner/initial_epoch: 5\n",
      "tuner/bracket: 1\n",
      "tuner/round: 1\n",
      "tuner/trial_id: 0022\n",
      "Score: 0.8847533464431763\n",
      "\n",
      "Trial 0027 summary\n",
      "Hyperparameters:\n",
      "num_layers: 5\n",
      "units_0: 88\n",
      "units_1: 240\n",
      "learning_rate: 0.0001\n",
      "units_2: 336\n",
      "units_3: 64\n",
      "units_4: 48\n",
      "units_5: 288\n",
      "tuner/epochs: 15\n",
      "tuner/initial_epoch: 0\n",
      "tuner/bracket: 0\n",
      "tuner/round: 0\n",
      "Score: 0.8847066760063171\n",
      "\n",
      "Trial 0028 summary\n",
      "Hyperparameters:\n",
      "num_layers: 4\n",
      "units_0: 88\n",
      "units_1: 216\n",
      "learning_rate: 0.0001\n",
      "units_2: 200\n",
      "units_3: 416\n",
      "units_4: 16\n",
      "units_5: 32\n",
      "tuner/epochs: 15\n",
      "tuner/initial_epoch: 0\n",
      "tuner/bracket: 0\n",
      "tuner/round: 0\n",
      "Score: 0.8845666646957397\n",
      "\n",
      "Trial 0014 summary\n",
      "Hyperparameters:\n",
      "num_layers: 4\n",
      "units_0: 384\n",
      "units_1: 312\n",
      "learning_rate: 0.0001\n",
      "units_2: 448\n",
      "units_3: 472\n",
      "units_4: 296\n",
      "units_5: 360\n",
      "tuner/epochs: 5\n",
      "tuner/initial_epoch: 2\n",
      "tuner/bracket: 2\n",
      "tuner/round: 1\n",
      "tuner/trial_id: 0009\n",
      "Score: 0.8842762112617493\n",
      "\n",
      "Trial 0012 summary\n",
      "Hyperparameters:\n",
      "num_layers: 4\n",
      "units_0: 432\n",
      "units_1: 232\n",
      "learning_rate: 0.0001\n",
      "units_2: 184\n",
      "units_3: 48\n",
      "units_4: 488\n",
      "units_5: 216\n",
      "tuner/epochs: 5\n",
      "tuner/initial_epoch: 2\n",
      "tuner/bracket: 2\n",
      "tuner/round: 1\n",
      "tuner/trial_id: 0007\n",
      "Score: 0.8840628862380981\n",
      "\n",
      "Trial 0013 summary\n",
      "Hyperparameters:\n",
      "num_layers: 5\n",
      "units_0: 240\n",
      "units_1: 208\n",
      "learning_rate: 0.0001\n",
      "units_2: 392\n",
      "units_3: 48\n",
      "tuner/epochs: 5\n",
      "tuner/initial_epoch: 2\n",
      "tuner/bracket: 2\n",
      "tuner/round: 1\n",
      "units_4: 16\n",
      "tuner/trial_id: 0002\n",
      "units_5: 144\n",
      "Score: 0.8838857412338257\n",
      "\n",
      "Trial 0022 summary\n",
      "Hyperparameters:\n",
      "num_layers: 6\n",
      "units_0: 128\n",
      "units_1: 440\n",
      "learning_rate: 0.0001\n",
      "units_2: 488\n",
      "units_3: 344\n",
      "units_4: 320\n",
      "units_5: 472\n",
      "tuner/epochs: 5\n",
      "tuner/initial_epoch: 0\n",
      "tuner/bracket: 1\n",
      "tuner/round: 0\n",
      "Score: 0.8833457231521606\n",
      "\n",
      "Trial 0025 summary\n",
      "Hyperparameters:\n",
      "num_layers: 3\n",
      "units_0: 344\n",
      "units_1: 256\n",
      "learning_rate: 0.001\n",
      "units_2: 240\n",
      "units_3: 480\n",
      "units_4: 408\n",
      "units_5: 256\n",
      "tuner/epochs: 15\n",
      "tuner/initial_epoch: 5\n",
      "tuner/bracket: 1\n",
      "tuner/round: 1\n",
      "tuner/trial_id: 0020\n",
      "Score: 0.8831875920295715\n"
     ]
    }
   ],
   "source": [
    "tuner.results_summary()"
   ]
  },
  {
   "cell_type": "code",
   "execution_count": 48,
   "metadata": {},
   "outputs": [
    {
     "name": "stdout",
     "output_type": "stream",
     "text": [
      "32813/32813 - 36s - loss: 0.2572 - accuracy: 0.8854 - 36s/epoch - 1ms/step\n"
     ]
    }
   ],
   "source": [
    "#Model performance\n",
    "test_loss, test_acc = denseNN_model.evaluate(X_test, y_test, verbose=2)"
   ]
  },
  {
   "attachments": {},
   "cell_type": "markdown",
   "metadata": {},
   "source": [
    "Plotting the model convergence."
   ]
  },
  {
   "cell_type": "code",
   "execution_count": 66,
   "metadata": {},
   "outputs": [],
   "source": [
    "import plotly.graph_objects as go\n",
    "import plotly.subplots as sp\n",
    "\n",
    "#bring in the final_model.csv training and validation scores\n",
    "df = pd.read_csv('final_model.csv')\n",
    "df.columns = df.columns.str.strip()\n"
   ]
  },
  {
   "cell_type": "code",
   "execution_count": 63,
   "metadata": {},
   "outputs": [
    {
     "data": {
      "text/html": [
       "<div>\n",
       "<style scoped>\n",
       "    .dataframe tbody tr th:only-of-type {\n",
       "        vertical-align: middle;\n",
       "    }\n",
       "\n",
       "    .dataframe tbody tr th {\n",
       "        vertical-align: top;\n",
       "    }\n",
       "\n",
       "    .dataframe thead th {\n",
       "        text-align: right;\n",
       "    }\n",
       "</style>\n",
       "<table border=\"1\" class=\"dataframe\">\n",
       "  <thead>\n",
       "    <tr style=\"text-align: right;\">\n",
       "      <th></th>\n",
       "      <th>Epoch</th>\n",
       "      <th>Training Loss</th>\n",
       "      <th>Training Accuracy</th>\n",
       "      <th>Validation Loss</th>\n",
       "      <th>Validation Accuracy</th>\n",
       "    </tr>\n",
       "  </thead>\n",
       "  <tbody>\n",
       "    <tr>\n",
       "      <th>0</th>\n",
       "      <td>1</td>\n",
       "      <td>0.2754</td>\n",
       "      <td>0.8748</td>\n",
       "      <td>0.2664</td>\n",
       "      <td>0.8801</td>\n",
       "    </tr>\n",
       "    <tr>\n",
       "      <th>1</th>\n",
       "      <td>2</td>\n",
       "      <td>0.2638</td>\n",
       "      <td>0.8813</td>\n",
       "      <td>0.2616</td>\n",
       "      <td>0.8825</td>\n",
       "    </tr>\n",
       "    <tr>\n",
       "      <th>2</th>\n",
       "      <td>3</td>\n",
       "      <td>0.2609</td>\n",
       "      <td>0.8828</td>\n",
       "      <td>0.2604</td>\n",
       "      <td>0.8835</td>\n",
       "    </tr>\n",
       "    <tr>\n",
       "      <th>3</th>\n",
       "      <td>4</td>\n",
       "      <td>0.2592</td>\n",
       "      <td>0.8839</td>\n",
       "      <td>0.2591</td>\n",
       "      <td>0.8841</td>\n",
       "    </tr>\n",
       "    <tr>\n",
       "      <th>4</th>\n",
       "      <td>5</td>\n",
       "      <td>0.2580</td>\n",
       "      <td>0.8846</td>\n",
       "      <td>0.2593</td>\n",
       "      <td>0.8840</td>\n",
       "    </tr>\n",
       "    <tr>\n",
       "      <th>5</th>\n",
       "      <td>6</td>\n",
       "      <td>0.2571</td>\n",
       "      <td>0.8851</td>\n",
       "      <td>0.2588</td>\n",
       "      <td>0.8843</td>\n",
       "    </tr>\n",
       "    <tr>\n",
       "      <th>6</th>\n",
       "      <td>7</td>\n",
       "      <td>0.2563</td>\n",
       "      <td>0.8855</td>\n",
       "      <td>0.2581</td>\n",
       "      <td>0.8847</td>\n",
       "    </tr>\n",
       "    <tr>\n",
       "      <th>7</th>\n",
       "      <td>8</td>\n",
       "      <td>0.2557</td>\n",
       "      <td>0.8858</td>\n",
       "      <td>0.2587</td>\n",
       "      <td>0.8846</td>\n",
       "    </tr>\n",
       "    <tr>\n",
       "      <th>8</th>\n",
       "      <td>9</td>\n",
       "      <td>0.2550</td>\n",
       "      <td>0.8862</td>\n",
       "      <td>0.2566</td>\n",
       "      <td>0.8852</td>\n",
       "    </tr>\n",
       "    <tr>\n",
       "      <th>9</th>\n",
       "      <td>10</td>\n",
       "      <td>0.2543</td>\n",
       "      <td>0.8866</td>\n",
       "      <td>0.2563</td>\n",
       "      <td>0.8853</td>\n",
       "    </tr>\n",
       "    <tr>\n",
       "      <th>10</th>\n",
       "      <td>11</td>\n",
       "      <td>0.2537</td>\n",
       "      <td>0.8869</td>\n",
       "      <td>0.2565</td>\n",
       "      <td>0.8855</td>\n",
       "    </tr>\n",
       "    <tr>\n",
       "      <th>11</th>\n",
       "      <td>12</td>\n",
       "      <td>0.2532</td>\n",
       "      <td>0.8873</td>\n",
       "      <td>0.2568</td>\n",
       "      <td>0.8855</td>\n",
       "    </tr>\n",
       "    <tr>\n",
       "      <th>12</th>\n",
       "      <td>13</td>\n",
       "      <td>0.2527</td>\n",
       "      <td>0.8875</td>\n",
       "      <td>0.2562</td>\n",
       "      <td>0.8857</td>\n",
       "    </tr>\n",
       "    <tr>\n",
       "      <th>13</th>\n",
       "      <td>14</td>\n",
       "      <td>0.2521</td>\n",
       "      <td>0.8878</td>\n",
       "      <td>0.2560</td>\n",
       "      <td>0.8857</td>\n",
       "    </tr>\n",
       "    <tr>\n",
       "      <th>14</th>\n",
       "      <td>15</td>\n",
       "      <td>0.2517</td>\n",
       "      <td>0.8880</td>\n",
       "      <td>0.2550</td>\n",
       "      <td>0.8863</td>\n",
       "    </tr>\n",
       "    <tr>\n",
       "      <th>15</th>\n",
       "      <td>16</td>\n",
       "      <td>0.2512</td>\n",
       "      <td>0.8882</td>\n",
       "      <td>0.2552</td>\n",
       "      <td>0.8862</td>\n",
       "    </tr>\n",
       "    <tr>\n",
       "      <th>16</th>\n",
       "      <td>17</td>\n",
       "      <td>0.2508</td>\n",
       "      <td>0.8885</td>\n",
       "      <td>0.2560</td>\n",
       "      <td>0.8862</td>\n",
       "    </tr>\n",
       "    <tr>\n",
       "      <th>17</th>\n",
       "      <td>18</td>\n",
       "      <td>0.2504</td>\n",
       "      <td>0.8887</td>\n",
       "      <td>0.2554</td>\n",
       "      <td>0.8860</td>\n",
       "    </tr>\n",
       "    <tr>\n",
       "      <th>18</th>\n",
       "      <td>19</td>\n",
       "      <td>0.2501</td>\n",
       "      <td>0.8890</td>\n",
       "      <td>0.2560</td>\n",
       "      <td>0.8858</td>\n",
       "    </tr>\n",
       "    <tr>\n",
       "      <th>19</th>\n",
       "      <td>20</td>\n",
       "      <td>0.2499</td>\n",
       "      <td>0.8890</td>\n",
       "      <td>0.2561</td>\n",
       "      <td>0.8858</td>\n",
       "    </tr>\n",
       "  </tbody>\n",
       "</table>\n",
       "</div>"
      ],
      "text/plain": [
       "    Epoch  Training Loss  Training Accuracy  Validation Loss  \\\n",
       "0       1         0.2754             0.8748           0.2664   \n",
       "1       2         0.2638             0.8813           0.2616   \n",
       "2       3         0.2609             0.8828           0.2604   \n",
       "3       4         0.2592             0.8839           0.2591   \n",
       "4       5         0.2580             0.8846           0.2593   \n",
       "5       6         0.2571             0.8851           0.2588   \n",
       "6       7         0.2563             0.8855           0.2581   \n",
       "7       8         0.2557             0.8858           0.2587   \n",
       "8       9         0.2550             0.8862           0.2566   \n",
       "9      10         0.2543             0.8866           0.2563   \n",
       "10     11         0.2537             0.8869           0.2565   \n",
       "11     12         0.2532             0.8873           0.2568   \n",
       "12     13         0.2527             0.8875           0.2562   \n",
       "13     14         0.2521             0.8878           0.2560   \n",
       "14     15         0.2517             0.8880           0.2550   \n",
       "15     16         0.2512             0.8882           0.2552   \n",
       "16     17         0.2508             0.8885           0.2560   \n",
       "17     18         0.2504             0.8887           0.2554   \n",
       "18     19         0.2501             0.8890           0.2560   \n",
       "19     20         0.2499             0.8890           0.2561   \n",
       "\n",
       "    Validation Accuracy  \n",
       "0                0.8801  \n",
       "1                0.8825  \n",
       "2                0.8835  \n",
       "3                0.8841  \n",
       "4                0.8840  \n",
       "5                0.8843  \n",
       "6                0.8847  \n",
       "7                0.8846  \n",
       "8                0.8852  \n",
       "9                0.8853  \n",
       "10               0.8855  \n",
       "11               0.8855  \n",
       "12               0.8857  \n",
       "13               0.8857  \n",
       "14               0.8863  \n",
       "15               0.8862  \n",
       "16               0.8862  \n",
       "17               0.8860  \n",
       "18               0.8858  \n",
       "19               0.8858  "
      ]
     },
     "execution_count": 63,
     "metadata": {},
     "output_type": "execute_result"
    }
   ],
   "source": [
    "df"
   ]
  },
  {
   "cell_type": "code",
   "execution_count": 77,
   "metadata": {},
   "outputs": [
    {
     "data": {
      "application/vnd.plotly.v1+json": {
       "config": {
        "plotlyServerURL": "https://plot.ly"
       },
       "data": [
        {
         "line": {
          "color": "blue"
         },
         "mode": "lines",
         "name": "Training Loss",
         "type": "scatter",
         "x": [
          1,
          2,
          3,
          4,
          5,
          6,
          7,
          8,
          9,
          10,
          11,
          12,
          13,
          14,
          15,
          16,
          17,
          18,
          19,
          20
         ],
         "xaxis": "x",
         "y": [
          0.2754,
          0.2638,
          0.2609,
          0.2592,
          0.258,
          0.2571,
          0.2563,
          0.2557,
          0.255,
          0.2543,
          0.2537,
          0.2532,
          0.2527,
          0.2521,
          0.2517,
          0.2512,
          0.2508,
          0.2504,
          0.2501,
          0.2499
         ],
         "yaxis": "y"
        },
        {
         "line": {
          "color": "red"
         },
         "mode": "lines",
         "name": "Validation Loss",
         "type": "scatter",
         "x": [
          1,
          2,
          3,
          4,
          5,
          6,
          7,
          8,
          9,
          10,
          11,
          12,
          13,
          14,
          15,
          16,
          17,
          18,
          19,
          20
         ],
         "xaxis": "x",
         "y": [
          0.2664,
          0.2616,
          0.2604,
          0.2591,
          0.2593,
          0.2588,
          0.2581,
          0.2587,
          0.2566,
          0.2563,
          0.2565,
          0.2568,
          0.2562,
          0.256,
          0.255,
          0.2552,
          0.256,
          0.2554,
          0.256,
          0.2561
         ],
         "yaxis": "y"
        },
        {
         "line": {
          "color": "green"
         },
         "mode": "lines",
         "name": "Training Accuracy",
         "type": "scatter",
         "x": [
          1,
          2,
          3,
          4,
          5,
          6,
          7,
          8,
          9,
          10,
          11,
          12,
          13,
          14,
          15,
          16,
          17,
          18,
          19,
          20
         ],
         "xaxis": "x2",
         "y": [
          0.8748,
          0.8813,
          0.8828,
          0.8839,
          0.8846,
          0.8851,
          0.8855,
          0.8858,
          0.8862,
          0.8866,
          0.8869,
          0.8873,
          0.8875,
          0.8878,
          0.888,
          0.8882,
          0.8885,
          0.8887,
          0.889,
          0.889
         ],
         "yaxis": "y2"
        },
        {
         "line": {
          "color": "orange"
         },
         "mode": "lines",
         "name": "Validation Accuracy",
         "type": "scatter",
         "x": [
          1,
          2,
          3,
          4,
          5,
          6,
          7,
          8,
          9,
          10,
          11,
          12,
          13,
          14,
          15,
          16,
          17,
          18,
          19,
          20
         ],
         "xaxis": "x2",
         "y": [
          0.8801,
          0.8825,
          0.8835,
          0.8841,
          0.884,
          0.8843,
          0.8847,
          0.8846,
          0.8852,
          0.8853,
          0.8855,
          0.8855,
          0.8857,
          0.8857,
          0.8863,
          0.8862,
          0.8862,
          0.886,
          0.8858,
          0.8858
         ],
         "yaxis": "y2"
        }
       ],
       "layout": {
        "annotations": [
         {
          "font": {
           "size": 16
          },
          "showarrow": false,
          "text": "Loss over Epochs",
          "x": 0.5,
          "xanchor": "center",
          "xref": "paper",
          "y": 1,
          "yanchor": "bottom",
          "yref": "paper"
         },
         {
          "font": {
           "size": 16
          },
          "showarrow": false,
          "text": "Accuracy over Epochs",
          "x": 0.5,
          "xanchor": "center",
          "xref": "paper",
          "y": 0.375,
          "yanchor": "bottom",
          "yref": "paper"
         },
         {
          "arrowhead": 1,
          "showarrow": false,
          "text": "Lowest Validation Loss: 0.2550",
          "x": 15,
          "xref": "x",
          "y": 0.255,
          "yref": "y",
          "yshift": 15
         },
         {
          "arrowhead": 1,
          "showarrow": false,
          "text": "Highest Validation Accuracy: 0.8863",
          "x": 15,
          "xref": "x2",
          "y": 0.8863,
          "yref": "y2",
          "yshift": -30
         },
         {
          "arrowhead": 1,
          "showarrow": false,
          "text": "Final Validation Loss: 0.2561",
          "x": 20,
          "xref": "x",
          "y": 0.2561,
          "yref": "y",
          "yshift": -10
         },
         {
          "arrowhead": 1,
          "showarrow": false,
          "text": "Final Validation Accuracy: 0.8858",
          "x": 20,
          "xref": "x2",
          "y": 0.8858,
          "yref": "y2",
          "yshift": -10
         }
        ],
        "height": 700,
        "template": {
         "data": {
          "bar": [
           {
            "error_x": {
             "color": "#2a3f5f"
            },
            "error_y": {
             "color": "#2a3f5f"
            },
            "marker": {
             "line": {
              "color": "#E5ECF6",
              "width": 0.5
             },
             "pattern": {
              "fillmode": "overlay",
              "size": 10,
              "solidity": 0.2
             }
            },
            "type": "bar"
           }
          ],
          "barpolar": [
           {
            "marker": {
             "line": {
              "color": "#E5ECF6",
              "width": 0.5
             },
             "pattern": {
              "fillmode": "overlay",
              "size": 10,
              "solidity": 0.2
             }
            },
            "type": "barpolar"
           }
          ],
          "carpet": [
           {
            "aaxis": {
             "endlinecolor": "#2a3f5f",
             "gridcolor": "white",
             "linecolor": "white",
             "minorgridcolor": "white",
             "startlinecolor": "#2a3f5f"
            },
            "baxis": {
             "endlinecolor": "#2a3f5f",
             "gridcolor": "white",
             "linecolor": "white",
             "minorgridcolor": "white",
             "startlinecolor": "#2a3f5f"
            },
            "type": "carpet"
           }
          ],
          "choropleth": [
           {
            "colorbar": {
             "outlinewidth": 0,
             "ticks": ""
            },
            "type": "choropleth"
           }
          ],
          "contour": [
           {
            "colorbar": {
             "outlinewidth": 0,
             "ticks": ""
            },
            "colorscale": [
             [
              0,
              "#0d0887"
             ],
             [
              0.1111111111111111,
              "#46039f"
             ],
             [
              0.2222222222222222,
              "#7201a8"
             ],
             [
              0.3333333333333333,
              "#9c179e"
             ],
             [
              0.4444444444444444,
              "#bd3786"
             ],
             [
              0.5555555555555556,
              "#d8576b"
             ],
             [
              0.6666666666666666,
              "#ed7953"
             ],
             [
              0.7777777777777778,
              "#fb9f3a"
             ],
             [
              0.8888888888888888,
              "#fdca26"
             ],
             [
              1,
              "#f0f921"
             ]
            ],
            "type": "contour"
           }
          ],
          "contourcarpet": [
           {
            "colorbar": {
             "outlinewidth": 0,
             "ticks": ""
            },
            "type": "contourcarpet"
           }
          ],
          "heatmap": [
           {
            "colorbar": {
             "outlinewidth": 0,
             "ticks": ""
            },
            "colorscale": [
             [
              0,
              "#0d0887"
             ],
             [
              0.1111111111111111,
              "#46039f"
             ],
             [
              0.2222222222222222,
              "#7201a8"
             ],
             [
              0.3333333333333333,
              "#9c179e"
             ],
             [
              0.4444444444444444,
              "#bd3786"
             ],
             [
              0.5555555555555556,
              "#d8576b"
             ],
             [
              0.6666666666666666,
              "#ed7953"
             ],
             [
              0.7777777777777778,
              "#fb9f3a"
             ],
             [
              0.8888888888888888,
              "#fdca26"
             ],
             [
              1,
              "#f0f921"
             ]
            ],
            "type": "heatmap"
           }
          ],
          "heatmapgl": [
           {
            "colorbar": {
             "outlinewidth": 0,
             "ticks": ""
            },
            "colorscale": [
             [
              0,
              "#0d0887"
             ],
             [
              0.1111111111111111,
              "#46039f"
             ],
             [
              0.2222222222222222,
              "#7201a8"
             ],
             [
              0.3333333333333333,
              "#9c179e"
             ],
             [
              0.4444444444444444,
              "#bd3786"
             ],
             [
              0.5555555555555556,
              "#d8576b"
             ],
             [
              0.6666666666666666,
              "#ed7953"
             ],
             [
              0.7777777777777778,
              "#fb9f3a"
             ],
             [
              0.8888888888888888,
              "#fdca26"
             ],
             [
              1,
              "#f0f921"
             ]
            ],
            "type": "heatmapgl"
           }
          ],
          "histogram": [
           {
            "marker": {
             "pattern": {
              "fillmode": "overlay",
              "size": 10,
              "solidity": 0.2
             }
            },
            "type": "histogram"
           }
          ],
          "histogram2d": [
           {
            "colorbar": {
             "outlinewidth": 0,
             "ticks": ""
            },
            "colorscale": [
             [
              0,
              "#0d0887"
             ],
             [
              0.1111111111111111,
              "#46039f"
             ],
             [
              0.2222222222222222,
              "#7201a8"
             ],
             [
              0.3333333333333333,
              "#9c179e"
             ],
             [
              0.4444444444444444,
              "#bd3786"
             ],
             [
              0.5555555555555556,
              "#d8576b"
             ],
             [
              0.6666666666666666,
              "#ed7953"
             ],
             [
              0.7777777777777778,
              "#fb9f3a"
             ],
             [
              0.8888888888888888,
              "#fdca26"
             ],
             [
              1,
              "#f0f921"
             ]
            ],
            "type": "histogram2d"
           }
          ],
          "histogram2dcontour": [
           {
            "colorbar": {
             "outlinewidth": 0,
             "ticks": ""
            },
            "colorscale": [
             [
              0,
              "#0d0887"
             ],
             [
              0.1111111111111111,
              "#46039f"
             ],
             [
              0.2222222222222222,
              "#7201a8"
             ],
             [
              0.3333333333333333,
              "#9c179e"
             ],
             [
              0.4444444444444444,
              "#bd3786"
             ],
             [
              0.5555555555555556,
              "#d8576b"
             ],
             [
              0.6666666666666666,
              "#ed7953"
             ],
             [
              0.7777777777777778,
              "#fb9f3a"
             ],
             [
              0.8888888888888888,
              "#fdca26"
             ],
             [
              1,
              "#f0f921"
             ]
            ],
            "type": "histogram2dcontour"
           }
          ],
          "mesh3d": [
           {
            "colorbar": {
             "outlinewidth": 0,
             "ticks": ""
            },
            "type": "mesh3d"
           }
          ],
          "parcoords": [
           {
            "line": {
             "colorbar": {
              "outlinewidth": 0,
              "ticks": ""
             }
            },
            "type": "parcoords"
           }
          ],
          "pie": [
           {
            "automargin": true,
            "type": "pie"
           }
          ],
          "scatter": [
           {
            "fillpattern": {
             "fillmode": "overlay",
             "size": 10,
             "solidity": 0.2
            },
            "type": "scatter"
           }
          ],
          "scatter3d": [
           {
            "line": {
             "colorbar": {
              "outlinewidth": 0,
              "ticks": ""
             }
            },
            "marker": {
             "colorbar": {
              "outlinewidth": 0,
              "ticks": ""
             }
            },
            "type": "scatter3d"
           }
          ],
          "scattercarpet": [
           {
            "marker": {
             "colorbar": {
              "outlinewidth": 0,
              "ticks": ""
             }
            },
            "type": "scattercarpet"
           }
          ],
          "scattergeo": [
           {
            "marker": {
             "colorbar": {
              "outlinewidth": 0,
              "ticks": ""
             }
            },
            "type": "scattergeo"
           }
          ],
          "scattergl": [
           {
            "marker": {
             "colorbar": {
              "outlinewidth": 0,
              "ticks": ""
             }
            },
            "type": "scattergl"
           }
          ],
          "scattermapbox": [
           {
            "marker": {
             "colorbar": {
              "outlinewidth": 0,
              "ticks": ""
             }
            },
            "type": "scattermapbox"
           }
          ],
          "scatterpolar": [
           {
            "marker": {
             "colorbar": {
              "outlinewidth": 0,
              "ticks": ""
             }
            },
            "type": "scatterpolar"
           }
          ],
          "scatterpolargl": [
           {
            "marker": {
             "colorbar": {
              "outlinewidth": 0,
              "ticks": ""
             }
            },
            "type": "scatterpolargl"
           }
          ],
          "scatterternary": [
           {
            "marker": {
             "colorbar": {
              "outlinewidth": 0,
              "ticks": ""
             }
            },
            "type": "scatterternary"
           }
          ],
          "surface": [
           {
            "colorbar": {
             "outlinewidth": 0,
             "ticks": ""
            },
            "colorscale": [
             [
              0,
              "#0d0887"
             ],
             [
              0.1111111111111111,
              "#46039f"
             ],
             [
              0.2222222222222222,
              "#7201a8"
             ],
             [
              0.3333333333333333,
              "#9c179e"
             ],
             [
              0.4444444444444444,
              "#bd3786"
             ],
             [
              0.5555555555555556,
              "#d8576b"
             ],
             [
              0.6666666666666666,
              "#ed7953"
             ],
             [
              0.7777777777777778,
              "#fb9f3a"
             ],
             [
              0.8888888888888888,
              "#fdca26"
             ],
             [
              1,
              "#f0f921"
             ]
            ],
            "type": "surface"
           }
          ],
          "table": [
           {
            "cells": {
             "fill": {
              "color": "#EBF0F8"
             },
             "line": {
              "color": "white"
             }
            },
            "header": {
             "fill": {
              "color": "#C8D4E3"
             },
             "line": {
              "color": "white"
             }
            },
            "type": "table"
           }
          ]
         },
         "layout": {
          "annotationdefaults": {
           "arrowcolor": "#2a3f5f",
           "arrowhead": 0,
           "arrowwidth": 1
          },
          "autotypenumbers": "strict",
          "coloraxis": {
           "colorbar": {
            "outlinewidth": 0,
            "ticks": ""
           }
          },
          "colorscale": {
           "diverging": [
            [
             0,
             "#8e0152"
            ],
            [
             0.1,
             "#c51b7d"
            ],
            [
             0.2,
             "#de77ae"
            ],
            [
             0.3,
             "#f1b6da"
            ],
            [
             0.4,
             "#fde0ef"
            ],
            [
             0.5,
             "#f7f7f7"
            ],
            [
             0.6,
             "#e6f5d0"
            ],
            [
             0.7,
             "#b8e186"
            ],
            [
             0.8,
             "#7fbc41"
            ],
            [
             0.9,
             "#4d9221"
            ],
            [
             1,
             "#276419"
            ]
           ],
           "sequential": [
            [
             0,
             "#0d0887"
            ],
            [
             0.1111111111111111,
             "#46039f"
            ],
            [
             0.2222222222222222,
             "#7201a8"
            ],
            [
             0.3333333333333333,
             "#9c179e"
            ],
            [
             0.4444444444444444,
             "#bd3786"
            ],
            [
             0.5555555555555556,
             "#d8576b"
            ],
            [
             0.6666666666666666,
             "#ed7953"
            ],
            [
             0.7777777777777778,
             "#fb9f3a"
            ],
            [
             0.8888888888888888,
             "#fdca26"
            ],
            [
             1,
             "#f0f921"
            ]
           ],
           "sequentialminus": [
            [
             0,
             "#0d0887"
            ],
            [
             0.1111111111111111,
             "#46039f"
            ],
            [
             0.2222222222222222,
             "#7201a8"
            ],
            [
             0.3333333333333333,
             "#9c179e"
            ],
            [
             0.4444444444444444,
             "#bd3786"
            ],
            [
             0.5555555555555556,
             "#d8576b"
            ],
            [
             0.6666666666666666,
             "#ed7953"
            ],
            [
             0.7777777777777778,
             "#fb9f3a"
            ],
            [
             0.8888888888888888,
             "#fdca26"
            ],
            [
             1,
             "#f0f921"
            ]
           ]
          },
          "colorway": [
           "#636efa",
           "#EF553B",
           "#00cc96",
           "#ab63fa",
           "#FFA15A",
           "#19d3f3",
           "#FF6692",
           "#B6E880",
           "#FF97FF",
           "#FECB52"
          ],
          "font": {
           "color": "#2a3f5f"
          },
          "geo": {
           "bgcolor": "white",
           "lakecolor": "white",
           "landcolor": "#E5ECF6",
           "showlakes": true,
           "showland": true,
           "subunitcolor": "white"
          },
          "hoverlabel": {
           "align": "left"
          },
          "hovermode": "closest",
          "mapbox": {
           "style": "light"
          },
          "paper_bgcolor": "white",
          "plot_bgcolor": "#E5ECF6",
          "polar": {
           "angularaxis": {
            "gridcolor": "white",
            "linecolor": "white",
            "ticks": ""
           },
           "bgcolor": "#E5ECF6",
           "radialaxis": {
            "gridcolor": "white",
            "linecolor": "white",
            "ticks": ""
           }
          },
          "scene": {
           "xaxis": {
            "backgroundcolor": "#E5ECF6",
            "gridcolor": "white",
            "gridwidth": 2,
            "linecolor": "white",
            "showbackground": true,
            "ticks": "",
            "zerolinecolor": "white"
           },
           "yaxis": {
            "backgroundcolor": "#E5ECF6",
            "gridcolor": "white",
            "gridwidth": 2,
            "linecolor": "white",
            "showbackground": true,
            "ticks": "",
            "zerolinecolor": "white"
           },
           "zaxis": {
            "backgroundcolor": "#E5ECF6",
            "gridcolor": "white",
            "gridwidth": 2,
            "linecolor": "white",
            "showbackground": true,
            "ticks": "",
            "zerolinecolor": "white"
           }
          },
          "shapedefaults": {
           "line": {
            "color": "#2a3f5f"
           }
          },
          "ternary": {
           "aaxis": {
            "gridcolor": "white",
            "linecolor": "white",
            "ticks": ""
           },
           "baxis": {
            "gridcolor": "white",
            "linecolor": "white",
            "ticks": ""
           },
           "bgcolor": "#E5ECF6",
           "caxis": {
            "gridcolor": "white",
            "linecolor": "white",
            "ticks": ""
           }
          },
          "title": {
           "x": 0.05
          },
          "xaxis": {
           "automargin": true,
           "gridcolor": "white",
           "linecolor": "white",
           "ticks": "",
           "title": {
            "standoff": 15
           },
           "zerolinecolor": "white",
           "zerolinewidth": 2
          },
          "yaxis": {
           "automargin": true,
           "gridcolor": "white",
           "linecolor": "white",
           "ticks": "",
           "title": {
            "standoff": 15
           },
           "zerolinecolor": "white",
           "zerolinewidth": 2
          }
         }
        },
        "title": {
         "text": "Training and Validation Metrics over Epochs",
         "x": 0.5
        },
        "width": 900,
        "xaxis": {
         "anchor": "y",
         "domain": [
          0,
          1
         ],
         "title": {
          "text": "Epoch"
         }
        },
        "xaxis2": {
         "anchor": "y2",
         "domain": [
          0,
          1
         ],
         "title": {
          "text": "Epoch"
         }
        },
        "yaxis": {
         "anchor": "x",
         "domain": [
          0.625,
          1
         ],
         "range": [
          0.24,
          0.3
         ],
         "title": {
          "text": "Loss"
         }
        },
        "yaxis2": {
         "anchor": "x2",
         "domain": [
          0,
          0.375
         ],
         "range": [
          0.87,
          0.9
         ],
         "title": {
          "text": "Accuracy"
         }
        }
       }
      }
     },
     "metadata": {},
     "output_type": "display_data"
    }
   ],
   "source": [
    "\n",
    "fig = sp.make_subplots(rows=2, cols=1, subplot_titles=('Loss over Epochs', 'Accuracy over Epochs'))\n",
    "#add in each trace\n",
    "fig.add_trace(go.Scatter(x=df['Epoch'], y=df['Training Loss'], mode='lines', name='Training Loss', line=dict(color='blue')), row=1, col=1)\n",
    "fig.add_trace(go.Scatter(x=df['Epoch'], y=df['Validation Loss'], mode='lines', name='Validation Loss', line=dict(color='red')), row=1, col=1)\n",
    "fig.add_trace(go.Scatter(x=df['Epoch'], y=df['Training Accuracy'], mode='lines', name='Training Accuracy', line=dict(color='green')), row=2, col=1)\n",
    "fig.add_trace(go.Scatter(x=df['Epoch'], y=df['Validation Accuracy'], mode='lines', name='Validation Accuracy', line=dict(color='orange')), row=2, col=1)\n",
    "\n",
    "#get location of min, max, and values for those plus final values\n",
    "min_loss_epoch = df['Validation Loss'].idxmin() + 1\n",
    "min_loss = df.loc[min_loss_epoch-1, 'Validation Loss']\n",
    "max_acc_epoch = df['Validation Accuracy'].idxmax() + 1\n",
    "max_acc = df.loc[max_acc_epoch-1, 'Validation Accuracy']\n",
    "final_loss = df.loc[df['Epoch'].idxmax(), 'Validation Loss']\n",
    "final_acc = df.loc[df['Epoch'].idxmax(), 'Validation Accuracy']\n",
    "\n",
    "#add in the annotaions of the above metrics\n",
    "fig.add_annotation(dict(x=min_loss_epoch, y=min_loss, text=f\"Lowest Validation Loss: {min_loss:.4f}\", showarrow=False, arrowhead=1, yshift=15), row=1, col=1)\n",
    "fig.add_annotation(dict(x=max_acc_epoch, y=max_acc, text=f\"Highest Validation Accuracy: {max_acc:.4f}\", showarrow=False, arrowhead=1, yshift=-30), row=2, col=1)\n",
    "fig.add_annotation(dict(x=df['Epoch'].max(), y=final_loss, text=f\"Final Validation Loss: {final_loss:.4f}\", showarrow=False, arrowhead=1, yshift=-10), row=1, col=1)\n",
    "fig.add_annotation(dict(x=df['Epoch'].max(), y=final_acc, text=f\"Final Validation Accuracy: {final_acc:.4f}\", showarrow=False, arrowhead=1, yshift=-10), row=2, col=1)\n",
    "\n",
    "#update layout\n",
    "fig.update_layout(height=700, width=900, title_text=\"Training and Validation Metrics over Epochs\", title_x=0.5)\n",
    "fig.update_xaxes(title_text='Epoch', row=1, col=1)\n",
    "fig.update_xaxes(title_text='Epoch', row=2, col=1)\n",
    "fig.update_yaxes(title_text='Loss', row=1, col=1, range=[0.24, 0.3]) # you can adjust the range as per your requirements\n",
    "fig.update_yaxes(title_text='Accuracy', row=2, col=1, range=[0.87, 0.9]) # you can adjust the range as per your requirements\n",
    "\n",
    "fig.show()"
   ]
  }
 ],
 "metadata": {
  "kernelspec": {
   "display_name": "tf3.8",
   "language": "python",
   "name": "python3"
  },
  "language_info": {
   "codemirror_mode": {
    "name": "ipython",
    "version": 3
   },
   "file_extension": ".py",
   "mimetype": "text/x-python",
   "name": "python",
   "nbconvert_exporter": "python",
   "pygments_lexer": "ipython3",
   "version": "3.8.16"
  },
  "orig_nbformat": 4
 },
 "nbformat": 4,
 "nbformat_minor": 2
}
